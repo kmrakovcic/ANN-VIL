{
 "cells": [
  {
   "metadata": {
    "ExecuteTime": {
     "end_time": "2025-04-24T18:03:10.833779Z",
     "start_time": "2025-04-24T18:03:09.561439Z"
    }
   },
   "cell_type": "code",
   "source": [
    "import tensorflow as tf\n",
    "print(tf.config.list_physical_devices('GPU'))"
   ],
   "id": "1649bf6e89cc9965",
   "outputs": [
    {
     "name": "stderr",
     "output_type": "stream",
     "text": [
      "2025-04-24 20:03:09.666234: I tensorflow/core/util/port.cc:153] oneDNN custom operations are on. You may see slightly different numerical results due to floating-point round-off errors from different computation orders. To turn them off, set the environment variable `TF_ENABLE_ONEDNN_OPTS=0`.\n",
      "2025-04-24 20:03:09.674557: E external/local_xla/xla/stream_executor/cuda/cuda_fft.cc:477] Unable to register cuFFT factory: Attempting to register factory for plugin cuFFT when one has already been registered\n",
      "WARNING: All log messages before absl::InitializeLog() is called are written to STDERR\n",
      "E0000 00:00:1745517789.682783   21822 cuda_dnn.cc:8310] Unable to register cuDNN factory: Attempting to register factory for plugin cuDNN when one has already been registered\n",
      "E0000 00:00:1745517789.684908   21822 cuda_blas.cc:1418] Unable to register cuBLAS factory: Attempting to register factory for plugin cuBLAS when one has already been registered\n",
      "2025-04-24 20:03:09.692951: I tensorflow/core/platform/cpu_feature_guard.cc:210] This TensorFlow binary is optimized to use available CPU instructions in performance-critical operations.\n",
      "To enable the following instructions: AVX2 AVX512F AVX512_VNNI AVX512_BF16 AVX_VNNI FMA, in other operations, rebuild TensorFlow with the appropriate compiler flags.\n"
     ]
    },
    {
     "name": "stdout",
     "output_type": "stream",
     "text": [
      "[PhysicalDevice(name='/physical_device:GPU:0', device_type='GPU')]\n"
     ]
    },
    {
     "name": "stderr",
     "output_type": "stream",
     "text": [
      "W0000 00:00:1745517790.828783   21822 gpu_device.cc:2433] TensorFlow was not built with CUDA kernel binaries compatible with compute capability 12.0. CUDA kernels will be jit-compiled from PTX, which could take 30 minutes or longer.\n"
     ]
    }
   ],
   "execution_count": 1
  },
  {
   "metadata": {},
   "cell_type": "code",
   "outputs": [],
   "execution_count": 1,
   "source": [
    "from Karlo.simulation.dataset_creation import survival_probability, intrinsic_gamma, measured_gamma\n",
    "from scipy import constants\n",
    "from scipy.interpolate import RegularGridInterpolator\n",
    "import numpy as np\n",
    "import concurrent.futures\n",
    "import os\n",
    "import time\n",
    "from functools import partial\n",
    "import math"
   ],
   "id": "68fd2dd4"
  },
  {
   "cell_type": "code",
   "execution_count": 10,
   "id": "4c4508d0",
   "metadata": {},
   "source": [
    "def create_one_training_example(spectrum_parameters, lc_parameters, Eqg,\n",
    "                                spectrum_error=None, lc_error=None, E_min=10 ** 10.55, E_max=10 ** 13.7,\n",
    "                                z=0.035, photon_num=2000, interpolation_grid=None, t_observation=4 * 28 * 60,\n",
    "                                verbose=False, i=0):\n",
    "    photon_count = 0\n",
    "    tries_count = 0\n",
    "    intrinsic_time = None\n",
    "    kappa2 = measured_gamma.distanceContrib(z)\n",
    "    E_max = min([E_max, measured_gamma.max_energy(Eqg, t_observation, E_min, kappa2)])\n",
    "    if E_max <= E_min:\n",
    "        return np.nan, np.nan, i\n",
    "    if interpolation_grid is not None:\n",
    "        opacity_interpolator = RegularGridInterpolator((interpolation_grid[0],\n",
    "                                                        interpolation_grid[1]),\n",
    "                                                       interpolation_grid[2])\n",
    "    else:\n",
    "        opacity_interpolator = None\n",
    "    if verbose:\n",
    "        start_time = time.time()\n",
    "    try:\n",
    "        while photon_count < photon_num:\n",
    "            tries_count += 1\n",
    "            if tries_count > 10*photon_num:\n",
    "                return np.nan, np.nan, i\n",
    "            if lc_error is not None:\n",
    "                A1, mean1, sigma1, A2, mean2, sigma2 = np.abs(np.random.normal(list(lc_parameters), list(lc_error)))\n",
    "            else:\n",
    "                A1, mean1, sigma1, A2, mean2, sigma2 = lc_parameters\n",
    "            if spectrum_error is not None:\n",
    "                E0, alpha = np.abs(np.random.normal(list(spectrum_parameters), list(spectrum_error)))\n",
    "            else:\n",
    "                E0, alpha = spectrum_parameters\n",
    "            if intrinsic_time is None:\n",
    "                intrinsic_time = intrinsic_gamma.intrinsic_times(A1, mean1, sigma1, A2, mean2, sigma2, size=1)\n",
    "                intrinsic_energy = intrinsic_gamma.intrinsic_energy(E_min, E_max, E0, alpha, size=1)\n",
    "                if opacity_interpolator is None:\n",
    "                    opacity = survival_probability.opacity(intrinsic_energy[0], z, Eqg)\n",
    "                else:\n",
    "                    opacity = opacity_interpolator((intrinsic_energy[0], Eqg))\n",
    "                survival_prob = [np.exp(-opacity)]\n",
    "                survived_mask = [False]\n",
    "            else:\n",
    "                print (A1, mean1, sigma1, A2, mean2, sigma2)\n",
    "                intrinsic_time = np.concatenate([intrinsic_time,\n",
    "                                            intrinsic_gamma.intrinsic_times(A1, mean1,\n",
    "                                                                        sigma1, A2,\n",
    "                                                                        mean2, sigma2,\n",
    "                                                                        size=1)])\n",
    "                intrinsic_energy = np.concatenate([intrinsic_energy,\n",
    "                                            intrinsic_gamma.intrinsic_energy(E_min, E_max,\n",
    "                                                                           E0, alpha, size=1)])\n",
    "                if opacity_interpolator is None:\n",
    "                    opacity = survival_probability.opacity(intrinsic_energy[-1], z, Eqg)\n",
    "                else:\n",
    "                    opacity = opacity_interpolator((intrinsic_energy[-1], Eqg))\n",
    "                survival_prob = np.concatenate([survival_prob, [np.exp(-opacity)]])\n",
    "                survived_mask = np.concatenate([survived_mask, [False]])\n",
    "            if t_observation > 0:\n",
    "                if (np.random.random() < survival_prob[-1]) and (\n",
    "                        intrinsic_time[-1] + measured_gamma.timeDelay(intrinsic_energy[-1], Eqg,\n",
    "                                                                  kappa2) - measured_gamma.timeDelay(E_min, Eqg,\n",
    "                                                                                                     kappa2) < t_observation):\n",
    "                    survived_mask[-1] = True\n",
    "                    photon_count += 1\n",
    "            else:\n",
    "                if np.random.random() < survival_prob[-1]:\n",
    "                    survived_mask[-1] = True\n",
    "                    photon_count += 1\n",
    "            if verbose:\n",
    "                if photon_count != 0:\n",
    "                    print(\"\\r\", photon_count, \"/\", photon_num, \"measured, ETA:\",\n",
    "                        round((time.time() - start_time) * (photon_num - photon_count) / photon_count, 1), \"s\", end=\"   \")\n",
    "\n",
    "        assert survived_mask.sum() == photon_num\n",
    "        measured_time = intrinsic_time[survived_mask] + measured_gamma.timeDelay(intrinsic_energy[survived_mask], Eqg,\n",
    "                                                                             kappa2)\n",
    "        measured_energy = measured_gamma.detectionEnergy(intrinsic_energy[survived_mask], z)\n",
    "        sort_index = np.argsort(measured_time)\n",
    "        measured_photons = np.vstack([measured_time - measured_time.min(), measured_energy]).T[sort_index]\n",
    "        intrinsic_photons = np.vstack([intrinsic_time, intrinsic_energy, survival_prob]).T[sort_index]\n",
    "        return measured_photons, intrinsic_photons, i\n",
    "    except Exception as e:\n",
    "        print(f\"Exception in worker: {e}\")\n",
    "        return np.nan, np.nan, i"
   ],
   "outputs": []
  },
  {
   "cell_type": "code",
   "execution_count": 11,
   "id": "13aba9b6",
   "metadata": {},
   "source": [
    "test1 = [5.65170773e+12, 2.72445375e+00, 4.33652353e+01, 3.85152209e+03, 8.14263170e+02, 3.14548956e+01, \n",
    "         3.69914454e+03, 6.94800749e+02, 6.70105972e+16]\n",
    "test2 = [8.57285384e+12, 2.38201326e+00, 2.55196679e+01, 1.92113397e+03, 1.37388666e+03, 1.71583506e+01,\n",
    "         4.17462082e+03, 7.07113769e+02, 4.09398155e+16]\n",
    "test3 = [8.82244328e+12, 2.02551043e+00, 5.29161707e+01, 3.00232000e+03, 7.25158610e+02,\n",
    "         6.19079512e+01, 2.73634423e+03, 7.63209804e+02, 3.94740929e+22]"
   ],
   "outputs": []
  },
  {
   "cell_type": "code",
   "execution_count": null,
   "id": "4a4c6253",
   "metadata": {},
   "source": [
    "test = test3\n",
    "opacity_grid, E_grid, Eqg_grid = np.load(\"./Karlo/extra/Opacity_grid_100x100.npz\").values()\n",
    "interpolation_grid = (E_grid, Eqg_grid, opacity_grid)\n",
    "opacity_grid, E_grid, Eqg_grid = np.load(\"./Karlo/extra/Opacity_grid_100x100.npz\").values()\n",
    "interpolation_grid = (E_grid, Eqg_grid, opacity_grid)\n",
    "x_measured, x_intrinsic, _ = create_one_training_example (spectrum_parameters=test[:2],\n",
    "                                          lc_parameters=test[2:8],\n",
    "                                          Eqg=test[8], \n",
    "                                         spectrum_error=(0., 0.24), \n",
    "                                        lc_error=(6., 185., 301., 11., 220., 283.),\n",
    "                                          interpolation_grid=interpolation_grid, verbose=True)"
   ],
   "outputs": []
  },
  {
   "cell_type": "code",
   "execution_count": null,
   "id": "adb59bfc",
   "metadata": {},
   "source": [],
   "outputs": []
  },
  {
   "cell_type": "code",
   "execution_count": 4,
   "id": "3cafa487",
   "metadata": {},
   "source": [
    "import numpy as np\n",
    "import pickle\n",
    "import scipy\n",
    "import scipy.stats\n",
    "from scipy.stats.sampling import NumericalInversePolynomial\n",
    "from scipy import constants\n",
    "from scipy import integrate\n",
    "from scipy.integrate import quad\n",
    "\n",
    "\n",
    "class intrinsicLC:\n",
    "    def __init__(self, a):\n",
    "        self.a = a\n",
    "\n",
    "    def support(self):\n",
    "        # distribution restricted to 0, 5, can be changed as needed\n",
    "        return (0, 7200)\n",
    "\n",
    "    def pdf(self, x):\n",
    "        # this is not a proper pdf, the normalizing\n",
    "        # constant is missing (does not integrate to one)\n",
    "        return np.exp(-0.5 * ((x - self.a[1]) / self.a[2]) ** 2) * self.a[0] + np.exp(\n",
    "            -0.5 * ((x - self.a[4]) / self.a[5]) ** 2) * self.a[3]\n",
    "\n",
    "\n",
    "def powerLaw(a, b, x0, alpha, size=1):\n",
    "    g = 1 - alpha\n",
    "    #\"\"\"Power-law gen for pdf(x)\\propto x^{g-1} for a<=x<=b\"\"\"\n",
    "    r = np.random.random(size=size)\n",
    "    ag, bg = a ** g, b ** g\n",
    "    #return (ag + (bg - ag)*(r/x0))**(1./g)\n",
    "    return (ag + (bg - ag) * r) ** (1. / g)\n",
    "\n",
    "\n",
    "def intrinsic_times(A1, mean1, sigma1, A2, mean2, sigma2, size=10 ** 6):\n",
    "    if mean2 < mean1:\n",
    "        A_tmp, sigma_tmp, mean_tmp = A1, sigma1, mean1\n",
    "        A1, sigma1, mean1 = A2, sigma2, mean2\n",
    "        A2, sigma2, mean2 = A_tmp, sigma_tmp, mean_tmp\n",
    "    #sigma1 = max(350, sigma1)\n",
    "    #sigma2 = max(350, sigma2)\n",
    "    mean = [mean1, mean2][np.argmax(np.array([A1, A2]))]\n",
    "    print (mean)\n",
    "    \n",
    "    distLC = intrinsicLC([A1, mean1, sigma1, A2, mean2, sigma2])\n",
    "    genLC = NumericalInversePolynomial(distLC, center=mean)\n",
    "    const_pdf = quad(distLC.pdf, *distLC.support())[0]\n",
    "    return genLC.rvs(size=size)\n",
    "\n",
    "\n",
    "def intrinsic_energy(a, b, E0, alpha, size=10 ** 6):\n",
    "    return powerLaw(a, b, E0, alpha, size)\n"
   ],
   "outputs": []
  },
  {
   "cell_type": "code",
   "execution_count": 5,
   "id": "295e336f",
   "metadata": {},
   "source": [
    "test_LC1=[53.63730942845096, 3789.6899980364456, 75.59687353717436, \n",
    "         46.499719218298566, 3748.201995290414, 195.3311962774742]\n",
    "test_LC=[56.35854140545533, 2876.4978263770086, 150.8120535284976,\n",
    "         78.81247938308621, 2830.8743210556067, 415.9618219177037]"
   ],
   "outputs": []
  },
  {
   "cell_type": "code",
   "execution_count": 7,
   "id": "1b75eddf",
   "metadata": {},
   "source": [
    "intrinsic_times(*tuple(test_LC))"
   ],
   "outputs": []
  },
  {
   "cell_type": "code",
   "execution_count": null,
   "id": "57170a77",
   "metadata": {},
   "source": [],
   "outputs": []
  }
 ],
 "metadata": {
  "kernelspec": {
   "display_name": "LIV_NN",
   "language": "python",
   "name": "kmrakovc_liv"
  },
  "language_info": {
   "codemirror_mode": {
    "name": "ipython",
    "version": 3
   },
   "file_extension": ".py",
   "mimetype": "text/x-python",
   "name": "python",
   "nbconvert_exporter": "python",
   "pygments_lexer": "ipython3",
   "version": "3.12.9"
  }
 },
 "nbformat": 4,
 "nbformat_minor": 5
}
