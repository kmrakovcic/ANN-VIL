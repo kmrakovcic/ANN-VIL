{
 "cells": [
  {
   "cell_type": "code",
   "id": "initial_id",
   "metadata": {
    "collapsed": true,
    "ExecuteTime": {
     "end_time": "2025-04-25T14:19:44.024492Z",
     "start_time": "2025-04-25T14:19:40.874247Z"
    }
   },
   "source": [
    "import torch\n",
    "import torch.nn as nn\n",
    "import torch.nn.functional as F\n",
    "from torch.utils.data import DataLoader, TensorDataset, random_split\n",
    "from torch.cuda.amp import autocast, GradScaler\n",
    "import numpy as np\n",
    "\n",
    "# Device setup\n",
    "device = torch.device('cuda' if torch.cuda.is_available() else 'cpu')\n",
    "\n",
    "# Load and preprocess data\n",
    "x_train, y_train = np.load(\"./Karlo/extra/trainset_p2000n10000_train.npz\").values()\n",
    "x_test, y_test = np.load(\"./Karlo/extra/trainset_p2000n2500_test.npz\").values()\n",
    "\n",
    "x_train[:, :, -1] *= 1e-10\n",
    "y_train = np.log(y_train[:, -1])\n",
    "x_test[:, :, -1] *= 1e-10\n",
    "y_test = np.log(y_test[:, -1])\n",
    "\n",
    "x_train_tensor = torch.tensor(x_train, dtype=torch.float32)\n",
    "y_train_tensor = torch.tensor(y_train, dtype=torch.float32).unsqueeze(-1)\n",
    "x_test_tensor = torch.tensor(x_test, dtype=torch.float32)\n",
    "y_test_tensor = torch.tensor(y_test, dtype=torch.float32).unsqueeze(-1)\n",
    "\n",
    "# Dataset and DataLoader\n",
    "dataset = TensorDataset(x_train_tensor, y_train_tensor)\n",
    "train_size = int(0.75 * len(dataset))\n",
    "val_size = len(dataset) - train_size\n",
    "train_dataset, val_dataset = random_split(dataset, [train_size, val_size])\n",
    "\n",
    "train_loader = DataLoader(train_dataset, batch_size=128, shuffle=True)\n",
    "val_loader = DataLoader(val_dataset, batch_size=128)\n",
    "\n",
    "# Activation helper\n",
    "def get_activation(name):\n",
    "    if name == \"leaky_relu\":\n",
    "        return nn.LeakyReLU()\n",
    "    elif name == \"relu\":\n",
    "        return nn.ReLU()\n",
    "    elif name == \"sigmoid\":\n",
    "        return nn.Sigmoid()\n",
    "    else:\n",
    "        raise ValueError(f\"Unsupported activation: {name}\")"
   ],
   "outputs": [],
   "execution_count": 1
  },
  {
   "metadata": {
    "ExecuteTime": {
     "end_time": "2025-04-25T14:19:44.036051Z",
     "start_time": "2025-04-25T14:19:44.033047Z"
    }
   },
   "cell_type": "code",
   "source": [
    "# RNN model\n",
    "class LIVRNN(nn.Module):\n",
    "    def __init__(self, architecture, input_shape):\n",
    "        super(LIVRNN, self).__init__()\n",
    "        self.grus = nn.ModuleList()\n",
    "        self.norms = nn.ModuleList()\n",
    "        input_dim = input_shape[-1]\n",
    "\n",
    "        for i in range(len(architecture[\"units\"]) - 1):\n",
    "            return_seq = i != (len(architecture[\"units\"]) - 2)\n",
    "            self.grus.append(nn.GRU(\n",
    "                input_size=input_dim,\n",
    "                hidden_size=architecture[\"units\"][i],\n",
    "                batch_first=True))\n",
    "            self.norms.append(nn.BatchNorm1d(2000, architecture[\"units\"][i]))\n",
    "            input_dim = architecture[\"units\"][i]\n",
    "\n",
    "        self.output_layers = nn.ModuleList([\n",
    "            nn.Linear(architecture[\"units\"][-2], 1)\n",
    "            for _ in range(architecture[\"units\"][-1])\n",
    "        ])\n",
    "        self.activation = get_activation(architecture[\"activations\"][-1])\n",
    "\n",
    "    def forward(self, x):\n",
    "        for gru, norm in zip(self.grus, self.norms):\n",
    "            x, _ = gru(x)\n",
    "            x = norm(x)\n",
    "        outputs = [self.activation(layer(x[:, -1])) for layer in self.output_layers]\n",
    "        return torch.stack(outputs, dim=1).squeeze(-1)  # shape: [B, N]"
   ],
   "id": "38c54f2d8ecc2bdc",
   "outputs": [],
   "execution_count": 2
  },
  {
   "metadata": {
    "ExecuteTime": {
     "end_time": "2025-04-25T14:20:33.658139Z",
     "start_time": "2025-04-25T14:20:33.650619Z"
    }
   },
   "cell_type": "code",
   "source": [
    "# Architecture definition\n",
    "architecture = {\n",
    "    \"units\": [128, 64, 32, 1],\n",
    "    \"activations\": [\"leaky_relu\", \"leaky_relu\", \"leaky_relu\", \"relu\"]\n",
    "}\n",
    "\n",
    "model = LIVRNN(architecture, x_train.shape).to(device)\n",
    "\n",
    "# Loss and optimizer\n",
    "criterion = nn.MSELoss()\n",
    "optimizer = torch.optim.Adam(model.parameters(), lr=0.01)"
   ],
   "id": "2bdbb5dec5003aec",
   "outputs": [],
   "execution_count": 6
  },
  {
   "metadata": {
    "ExecuteTime": {
     "end_time": "2025-04-25T14:21:14.911493Z",
     "start_time": "2025-04-25T14:20:34.085895Z"
    }
   },
   "cell_type": "code",
   "source": [
    "# Training loop\n",
    "num_epochs = 400\n",
    "for epoch in range(num_epochs):\n",
    "    model.train()\n",
    "    train_loss = 0.0\n",
    "    for xb, yb in train_loader:\n",
    "        xb, yb = xb.to(device), yb.to(device)\n",
    "        optimizer.zero_grad()\n",
    "        outputs = model(xb)\n",
    "        loss = criterion(outputs, yb)\n",
    "        loss.backward()\n",
    "        optimizer.step()\n",
    "        train_loss += loss.item() * xb.size(0)\n",
    "\n",
    "    val_loss = 0.0\n",
    "    model.eval()\n",
    "    with torch.no_grad():\n",
    "        for xb, yb in val_loader:\n",
    "            xb, yb = xb.to(device), yb.to(device)\n",
    "            outputs = model(xb)\n",
    "            loss = criterion(outputs, yb)\n",
    "            val_loss += loss.item() * xb.size(0)\n",
    "\n",
    "    print(f\"Epoch {epoch+1}/{num_epochs} - Train Loss: {train_loss/len(train_dataset):.4f}, \"\n",
    "          f\"Val Loss: {val_loss/len(val_dataset):.4f}\")"
   ],
   "id": "d7c6ac73bd8f4ffd",
   "outputs": [
    {
     "name": "stdout",
     "output_type": "stream",
     "text": [
      "Epoch 1/400 - Train Loss: 1974.4140, Val Loss: 1196.7561\n",
      "Epoch 2/400 - Train Loss: 370.2803, Val Loss: 47.8958\n",
      "Epoch 3/400 - Train Loss: 45.0813, Val Loss: 46.2444\n",
      "Epoch 4/400 - Train Loss: 44.3075, Val Loss: 46.2530\n",
      "Epoch 5/400 - Train Loss: 44.2876, Val Loss: 46.2975\n",
      "Epoch 6/400 - Train Loss: 44.3184, Val Loss: 46.2505\n",
      "Epoch 7/400 - Train Loss: 44.3049, Val Loss: 46.2571\n",
      "Epoch 8/400 - Train Loss: 44.2961, Val Loss: 46.3089\n",
      "Epoch 9/400 - Train Loss: 44.3066, Val Loss: 46.3165\n",
      "Epoch 10/400 - Train Loss: 44.3457, Val Loss: 46.2438\n",
      "Epoch 11/400 - Train Loss: 44.3161, Val Loss: 46.2854\n",
      "Epoch 12/400 - Train Loss: 44.3274, Val Loss: 46.2468\n",
      "Epoch 13/400 - Train Loss: 44.3319, Val Loss: 46.2753\n",
      "Epoch 14/400 - Train Loss: 44.3075, Val Loss: 46.2557\n",
      "Epoch 15/400 - Train Loss: 44.3319, Val Loss: 46.2699\n",
      "Epoch 16/400 - Train Loss: 44.3705, Val Loss: 46.2804\n",
      "Epoch 17/400 - Train Loss: 44.3035, Val Loss: 46.3254\n"
     ]
    },
    {
     "ename": "KeyboardInterrupt",
     "evalue": "",
     "output_type": "error",
     "traceback": [
      "\u001B[0;31m---------------------------------------------------------------------------\u001B[0m",
      "\u001B[0;31mKeyboardInterrupt\u001B[0m                         Traceback (most recent call last)",
      "Cell \u001B[0;32mIn[7], line 13\u001B[0m\n\u001B[1;32m     11\u001B[0m     loss\u001B[38;5;241m.\u001B[39mbackward()\n\u001B[1;32m     12\u001B[0m     optimizer\u001B[38;5;241m.\u001B[39mstep()\n\u001B[0;32m---> 13\u001B[0m     train_loss \u001B[38;5;241m+\u001B[39m\u001B[38;5;241m=\u001B[39m \u001B[43mloss\u001B[49m\u001B[38;5;241;43m.\u001B[39;49m\u001B[43mitem\u001B[49m\u001B[43m(\u001B[49m\u001B[43m)\u001B[49m \u001B[38;5;241m*\u001B[39m xb\u001B[38;5;241m.\u001B[39msize(\u001B[38;5;241m0\u001B[39m)\n\u001B[1;32m     15\u001B[0m val_loss \u001B[38;5;241m=\u001B[39m \u001B[38;5;241m0.0\u001B[39m\n\u001B[1;32m     16\u001B[0m model\u001B[38;5;241m.\u001B[39meval()\n",
      "\u001B[0;31mKeyboardInterrupt\u001B[0m: "
     ]
    }
   ],
   "execution_count": 7
  },
  {
   "metadata": {},
   "cell_type": "code",
   "outputs": [],
   "execution_count": null,
   "source": "",
   "id": "64df8f4309ecdd4e"
  }
 ],
 "metadata": {
  "kernelspec": {
   "display_name": "Python 3",
   "language": "python",
   "name": "python3"
  },
  "language_info": {
   "codemirror_mode": {
    "name": "ipython",
    "version": 2
   },
   "file_extension": ".py",
   "mimetype": "text/x-python",
   "name": "python",
   "nbconvert_exporter": "python",
   "pygments_lexer": "ipython2",
   "version": "2.7.6"
  }
 },
 "nbformat": 4,
 "nbformat_minor": 5
}
